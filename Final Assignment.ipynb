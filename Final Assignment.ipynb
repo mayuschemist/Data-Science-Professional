##Question Use yfinance to Extract Stock Data

tesla = yf.Ticker("TSLA")
tesla_data = tesla.history(period="max")
tesla_data.reset_index(inplace=True)
tesla_data.head()

Date	Open	High	Low	Close	Volume	Dividends	Stock Splits
0	2010-06-29	3.800	5.000	3.508	4.778	93831500	0	0.0
1	2010-06-30	5.158	6.084	4.660	4.766	85935500	0	0.0
2	2010-07-01	5.000	5.184	4.054	4.392	41094000	0	0.0
3	2010-07-02	4.600	4.620	3.742	3.840	25699000	0	0.0
4	2010-07-06	4.000	4.000	3.166	3.222	34334500	0	0.0




Question 2: Use Webscraping to Extract Tesla Revenue Data

tesla_url = "https://www.macrotrends.net/stocks/charts/TSLA/tesla/revenue"
tesla_html_data = requests.get(tesla_url).text
tesla_soup = BeautifulSoup(tesla_html_data, "html5lib")
tesla_tables = tesla_soup.find_all('table')
for index,table in enumerate(tesla_tables):
    if ("Tesla Quarterly Revenue" in str(table)):
        tesla_table_index = index
tesla_revenue = pd.DataFrame(columns=["Date", "Revenue"])
for row in tesla_tables[tesla_table_index].tbody.find_all("tr"):
    col = row.find_all("td")
    if (col !=[]):
        date = col[0].text
        revenue = col[1].text.replace("$", "").replace(",", "")
        tesla_revenue = tesla_revenue.append({"Date" : date, "Revenue" : revenue}, ignore_index=True)
    revenue = col[1].text.replace("$", "").replace(",", "")
    tesla_revenue["Revenue"] = tesla_revenue["Revenue"].str.replace("$", "").str.replace(",", "")

tesla_revenue = tesla_revenue[tesla_revenue['Revenue'] != ""]
tesla_revenue
Date	Revenue
0	2021-03-31	10389
1	2020-12-31	10744
2	2020-09-30	8771
3	2020-06-30	6036
4	2020-03-31	5985
5	2019-12-31	7384
6	2019-09-30	6303
7	2019-06-30	6350
8	2019-03-31	4541
9	2018-12-31	7226
10	2018-09-30	6824
11	2018-06-30	4002
12	2018-03-31	3409
13	2017-12-31	3288
14	2017-09-30	2985
15	2017-06-30	2790
16	2017-03-31	2696
17	2016-12-31	2285
18	2016-09-30	2298
19	2016-06-30	1270
20	2016-03-31	1147
21	2015-12-31	1214
22	2015-09-30	937
23	2015-06-30	955
24	2015-03-31	940
25	2014-12-31	957
26	2014-09-30	852
27	2014-06-30	769
28	2014-03-31	621
29	2013-12-31	615
30	2013-09-30	431
31	2013-06-30	405
32	2013-03-31	562
33	2012-12-31	306
34	2012-09-30	50
35	2012-06-30	27
36	2012-03-31	30
37	2011-12-31	39
38	2011-09-30	58
39	2011-06-30	58
40	2011-03-31	49
41	2010-12-31	36
42	2010-09-30	31
43	2010-06-30	28
44	2010-03-31	21
46	2009-09-30	46
47	2009-06-30	27

tesla_revenue.tail()

Question 3: Use yfinance to Extract Stock Data

gamestop = yf.Ticker("GME")
gme_data = gamestop.history(period="max")
gme_data.reset_index(inplace=True)
gme_data.head()

index	Date	Open	High	Low	Close	Volume	Dividends	Stock Splits
0	0	2002-02-13	6.480513	6.773399	6.413183	6.766666	19054000	0.0	0.0
1	1	2002-02-14	6.850831	6.864296	6.682506	6.733003	2755400	0.0	0.0
2	2	2002-02-15	6.733001	6.749833	6.632006	6.699336	2097400	0.0	0.0
3	3	2002-02-19	6.665671	6.665671	6.312189	6.430017	1852600	0.0	0.0
4	4	2002-02-20	6.463681	6.648838	6.413183	6.648838	1723200	0.0	0.0

Question 4: Use Webscraping to Extract GME Revenue Data

gme_url = "https://www.macrotrends.net/stocks/charts/GME/gamestop/revenue"
gme_html_data = requests.get(gme_url).text
gme_soup = BeautifulSoup(gme_html_data, "html5lib")
gme_tables = gme_soup.find_all('table')
for index,table in enumerate(gme_tables):
    if ("GameStop Quarterly Revenue" in str(table)):
        gme_table_index = index
gme_revenue = pd.DataFrame(columns=["Date", "Revenue"])

for row in gme_tables[gme_table_index].tbody.find_all("tr"):
    col = row.find_all("td")
    if (col !=[]):
        date = col[0].text
        revenue = col[1].text.replace("$", "").replace(",", "")
        gme_revenue = gme_revenue.append({"Date" : date, "Revenue" : revenue}, ignore_index=True)

gme_revenue.tail()
Date	Revenue
60	2006-01-31	1667
61	2005-10-31	534
62	2005-07-31	416
63	2005-04-30	475
64	2005-01-31	709
#Question 5 Plot Tesla Stock Graph

make_graph(tesla_data, tesla_revenue, 'Tesla')

#Question 6: Plot GameStop Stock Graph
